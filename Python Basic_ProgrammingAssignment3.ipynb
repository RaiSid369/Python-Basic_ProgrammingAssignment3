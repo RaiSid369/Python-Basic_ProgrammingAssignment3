{
 "cells": [
  {
   "cell_type": "code",
   "execution_count": null,
   "id": "b6e815c0",
   "metadata": {},
   "outputs": [],
   "source": [
    "# Que 1. Write a Python Program to Check if a Number is Positive, Negative or Zero."
   ]
  },
  {
   "cell_type": "code",
   "execution_count": null,
   "id": "44c421bd",
   "metadata": {},
   "outputs": [],
   "source": [
    "a = float(input(\"Enter a number = \"))\n",
    "if a>0:\n",
    "    print(\"The entered number is Positive\")\n",
    "elif a<0:\n",
    "    print(\"The entered number is Negative\")\n",
    "else:\n",
    "    print(\"The entered number is Zero\")"
   ]
  },
  {
   "cell_type": "code",
   "execution_count": null,
   "id": "a4a49113",
   "metadata": {},
   "outputs": [],
   "source": []
  },
  {
   "cell_type": "code",
   "execution_count": null,
   "id": "18e2c97e",
   "metadata": {},
   "outputs": [],
   "source": [
    "# Que 2. Write a Python Program to Check if a Number is Odd or Even."
   ]
  },
  {
   "cell_type": "code",
   "execution_count": null,
   "id": "bd914f92",
   "metadata": {},
   "outputs": [],
   "source": [
    "a = int(input(\"Enter an integer value = \"))\n",
    "if a%2==1:\n",
    "    print(\"The entered value is Odd\")\n",
    "else:\n",
    "    print(\"The entered value is Even\")"
   ]
  },
  {
   "cell_type": "code",
   "execution_count": null,
   "id": "03b1b293",
   "metadata": {},
   "outputs": [],
   "source": []
  },
  {
   "cell_type": "code",
   "execution_count": null,
   "id": "5c2757eb",
   "metadata": {},
   "outputs": [],
   "source": [
    "# Que 3. Write a Python Program to Check Leap Year."
   ]
  },
  {
   "cell_type": "code",
   "execution_count": null,
   "id": "3c0c3757",
   "metadata": {},
   "outputs": [],
   "source": [
    "Year = int(input('Enter year in yyyy format: '))\n",
    "if (Year%4 == 0 and Year%100 != 0) or (Year%400 == 0) :\n",
    "    print(\"It is a leap year.\")\n",
    "else :\n",
    "    print(\"It is not a leap year.\")"
   ]
  },
  {
   "cell_type": "code",
   "execution_count": null,
   "id": "5e41c467",
   "metadata": {},
   "outputs": [],
   "source": []
  },
  {
   "cell_type": "code",
   "execution_count": null,
   "id": "6002dc22",
   "metadata": {},
   "outputs": [],
   "source": [
    "# Que 4. Write a Python Program to Check Prime Number."
   ]
  },
  {
   "cell_type": "code",
   "execution_count": null,
   "id": "cf385f41",
   "metadata": {},
   "outputs": [],
   "source": [
    "a = int(input(\"Enter an integer value greater than 2 =\"))\n",
    "for i in range(3,a):\n",
    "    if a%i==0:\n",
    "        print(\"Given number is NOT a prime number\")\n",
    "        break\n",
    "else:\n",
    "    print(\"Given number is a prime number\")"
   ]
  },
  {
   "cell_type": "code",
   "execution_count": null,
   "id": "ae9b456d",
   "metadata": {},
   "outputs": [],
   "source": []
  },
  {
   "cell_type": "code",
   "execution_count": null,
   "id": "29367169",
   "metadata": {},
   "outputs": [],
   "source": [
    "# Que 5. Write a Python Program to Print all Prime Numbers in an Interval of 1-10000?"
   ]
  },
  {
   "cell_type": "code",
   "execution_count": null,
   "id": "24f681e6",
   "metadata": {},
   "outputs": [],
   "source": [
    "for i in range(2,10000+1):\n",
    "    if i == 2:\n",
    "        print(i)\n",
    "    else:\n",
    "        for j in range(2,i):\n",
    "            if i%j==0:\n",
    "                break\n",
    "        else:\n",
    "            print(i, end = \" \")"
   ]
  }
 ],
 "metadata": {
  "kernelspec": {
   "display_name": "Python 3 (ipykernel)",
   "language": "python",
   "name": "python3"
  },
  "language_info": {
   "codemirror_mode": {
    "name": "ipython",
    "version": 3
   },
   "file_extension": ".py",
   "mimetype": "text/x-python",
   "name": "python",
   "nbconvert_exporter": "python",
   "pygments_lexer": "ipython3",
   "version": "3.9.12"
  }
 },
 "nbformat": 4,
 "nbformat_minor": 5
}
